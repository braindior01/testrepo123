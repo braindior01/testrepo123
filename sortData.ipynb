{
 "cells": [
  {
   "cell_type": "code",
   "execution_count": 20,
   "id": "9e6e4647",
   "metadata": {},
   "outputs": [],
   "source": [
    "import pandas as pd\n",
    "import numpy as np"
   ]
  },
  {
   "cell_type": "code",
   "execution_count": 24,
   "id": "30c81a07",
   "metadata": {},
   "outputs": [],
   "source": [
    "df = pd.read_csv('data\\dataTest.csv', encoding='latin1')"
   ]
  },
  {
   "cell_type": "code",
   "execution_count": 31,
   "id": "5e09cedd",
   "metadata": {},
   "outputs": [],
   "source": [
    "df_sort = df.head()"
   ]
  },
  {
   "cell_type": "code",
   "execution_count": 32,
   "id": "10a42a49",
   "metadata": {},
   "outputs": [],
   "source": [
    "df.to_csv('data\\dataTestSort.csv', encoding='latin1')"
   ]
  },
  {
   "cell_type": "code",
   "execution_count": 33,
   "id": "0f55e387",
   "metadata": {},
   "outputs": [],
   "source": [
    "df_sort.to_csv('data\\dataT.csv', encoding='latin1')"
   ]
  },
  {
   "cell_type": "code",
   "execution_count": null,
   "id": "cb8245bd",
   "metadata": {},
   "outputs": [],
   "source": []
  },
  {
   "cell_type": "code",
   "execution_count": null,
   "id": "d311680a",
   "metadata": {},
   "outputs": [],
   "source": []
  },
  {
   "cell_type": "code",
   "execution_count": null,
   "id": "c5610dd7",
   "metadata": {},
   "outputs": [],
   "source": []
  }
 ],
 "metadata": {
  "kernelspec": {
   "display_name": "Python 3 (ipykernel)",
   "language": "python",
   "name": "python3"
  },
  "language_info": {
   "codemirror_mode": {
    "name": "ipython",
    "version": 3
   },
   "file_extension": ".py",
   "mimetype": "text/x-python",
   "name": "python",
   "nbconvert_exporter": "python",
   "pygments_lexer": "ipython3",
   "version": "3.10.9"
  }
 },
 "nbformat": 4,
 "nbformat_minor": 5
}
